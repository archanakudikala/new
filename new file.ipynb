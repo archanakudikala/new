{
 "cells": [
  {
   "cell_type": "code",
   "execution_count": 1,
   "id": "a8f0a0d8",
   "metadata": {},
   "outputs": [
    {
     "name": "stdout",
     "output_type": "stream",
     "text": [
      "hello world\n"
     ]
    }
   ],
   "source": [
    "print('hello world')"
   ]
  },
  {
   "cell_type": "code",
   "execution_count": 2,
   "id": "350f4189",
   "metadata": {},
   "outputs": [
    {
     "name": "stdout",
     "output_type": "stream",
     "text": [
      "x\n"
     ]
    }
   ],
   "source": [
    "x=10\n",
    "print('x')"
   ]
  },
  {
   "cell_type": "code",
   "execution_count": 3,
   "id": "2715b26d",
   "metadata": {},
   "outputs": [
    {
     "name": "stdout",
     "output_type": "stream",
     "text": [
      "x=10\n"
     ]
    }
   ],
   "source": [
    "print('x=10')"
   ]
  },
  {
   "cell_type": "code",
   "execution_count": 4,
   "id": "0356ac8b",
   "metadata": {},
   "outputs": [
    {
     "name": "stdout",
     "output_type": "stream",
     "text": [
      "x= 10\n"
     ]
    }
   ],
   "source": [
    "print('x=',x)"
   ]
  },
  {
   "cell_type": "code",
   "execution_count": 5,
   "id": "6ca01e6d",
   "metadata": {},
   "outputs": [
    {
     "name": "stdout",
     "output_type": "stream",
     "text": [
      "x\n"
     ]
    }
   ],
   "source": [
    "x=15\n",
    "print('x')"
   ]
  },
  {
   "cell_type": "code",
   "execution_count": 6,
   "id": "d05b7d7f",
   "metadata": {},
   "outputs": [
    {
     "name": "stdout",
     "output_type": "stream",
     "text": [
      "x=15\n"
     ]
    }
   ],
   "source": [
    "print('x=15')"
   ]
  },
  {
   "cell_type": "code",
   "execution_count": 7,
   "id": "f1795fce",
   "metadata": {},
   "outputs": [
    {
     "name": "stdout",
     "output_type": "stream",
     "text": [
      "x\n"
     ]
    }
   ],
   "source": [
    "x=12\n",
    "print('x')"
   ]
  },
  {
   "cell_type": "code",
   "execution_count": null,
   "id": "8b9f8629",
   "metadata": {},
   "outputs": [],
   "source": []
  }
 ],
 "metadata": {
  "kernelspec": {
   "display_name": "Python 3 (ipykernel)",
   "language": "python",
   "name": "python3"
  },
  "language_info": {
   "codemirror_mode": {
    "name": "ipython",
    "version": 3
   },
   "file_extension": ".py",
   "mimetype": "text/x-python",
   "name": "python",
   "nbconvert_exporter": "python",
   "pygments_lexer": "ipython3",
   "version": "3.9.7"
  }
 },
 "nbformat": 4,
 "nbformat_minor": 5
}
